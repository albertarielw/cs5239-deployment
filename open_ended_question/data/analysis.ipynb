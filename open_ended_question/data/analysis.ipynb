{
 "cells": [
  {
   "cell_type": "code",
   "execution_count": null,
   "metadata": {},
   "outputs": [],
   "source": [
    "import pandas as pd\n",
    "\n",
    "us_df = pd.read_csv(\"../data/OxCGRT_fullwithnotes_USA_v1.csv\")\n",
    "us_df = us_df[us_df[\"Jurisdiction\"] == \"NAT_TOTAL\"]\n",
    "us_population = 331_000_000 \n",
    "us_df['DailyCaseRate'] = us_df['ConfirmedCases'].diff().fillna(0)\n",
    "us_df['DailyDeathRate'] = us_df['ConfirmedDeaths'].diff().fillna(0)\n",
    "us_df['DailyCaseRate'] = us_df['DailyCaseRate'].apply(lambda x: max(0, x) / us_population * 100_000)\n",
    "us_df['DailyDeathRate'] = us_df['DailyDeathRate'].apply(lambda x: max(0, x) / us_population * 100_000)\n",
    "us_df"
   ]
  }
 ],
 "metadata": {
  "kernelspec": {
   "display_name": "base",
   "language": "python",
   "name": "python3"
  },
  "language_info": {
   "name": "python",
   "version": "3.11.5"
  }
 },
 "nbformat": 4,
 "nbformat_minor": 2
}
